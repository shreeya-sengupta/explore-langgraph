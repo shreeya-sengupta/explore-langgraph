{
 "cells": [
  {
   "cell_type": "code",
   "execution_count": 2,
   "id": "616c572b-97b3-4d8a-8c9c-143603cbb4a7",
   "metadata": {},
   "outputs": [],
   "source": [
    "from typing import Dict, TypedDict, Optional"
   ]
  },
  {
   "cell_type": "code",
   "execution_count": 3,
   "id": "3d342746-c38b-45a6-9d2f-679776b458cc",
   "metadata": {},
   "outputs": [],
   "source": [
    "class GraphState(TypedDict):\n",
    "    question: Optional[str] = None\n",
    "    classification: Optional[str] = None\n",
    "    response: Optional[str] = None"
   ]
  },
  {
   "cell_type": "code",
   "execution_count": 4,
   "id": "7a175ec8-5fa6-4546-9d44-ae41f868bc65",
   "metadata": {},
   "outputs": [],
   "source": [
    "# !python -m pip install langgraph"
   ]
  },
  {
   "cell_type": "code",
   "execution_count": 5,
   "id": "afe121c0-2e67-4cda-887c-800e3ebb2a96",
   "metadata": {},
   "outputs": [],
   "source": [
    "from langgraph.graph import StateGraph, END"
   ]
  },
  {
   "cell_type": "code",
   "execution_count": 6,
   "id": "1de78410-1528-4c7a-8218-ba7eecc433cb",
   "metadata": {},
   "outputs": [],
   "source": [
    "workflow = StateGraph(GraphState)"
   ]
  },
  {
   "cell_type": "code",
   "execution_count": 7,
   "id": "ecd56109-1067-4caa-b068-65cfe9b352cc",
   "metadata": {},
   "outputs": [],
   "source": [
    "def classify(question):\n",
    "    print(type(question))\n",
    "    greet_list = [\"hello\", \"good morning\", \"good evening\", \"hey\"]\n",
    "    for g in greet_list:\n",
    "        if g in question:\n",
    "            return \"greeting\"\n",
    "    return \"question\"\n",
    "\n",
    "def summarise(question):\n",
    "    from transformers import pipeline\n",
    "    summarizer = pipeline(\"summarization\", model=\"google-t5/t5-small\")\n",
    "    summarised_text = summarizer(question)\n",
    "    return {\"summarised_text\": summarised_text}\n",
    "\n",
    "\n",
    "def classify_input_node(state):\n",
    "    question = state.get('question', '').strip()\n",
    "    classification = classify(question)\n",
    "    return {\"classification\":classification}\n",
    "\n",
    "def handle_greeting_node(state):\n",
    "    return {\"response\": \"Hello! How can I help you!\"}\n",
    "\n",
    "def handle_summarise_node(state):\n",
    "    question = state.get('question', '').strip()\n",
    "    summarise_result = summarise(question)\n",
    "    return {\"response\": summarise_result}\n",
    "    \n",
    "def decide_next_node(state):\n",
    "    return \"handle_greeting\" if state.get('classification') == \"greeting\" else \"handle_summarise\"\n"
   ]
  },
  {
   "cell_type": "code",
   "execution_count": 8,
   "id": "fa7fd728-45e1-49d9-b45d-b220e219f78b",
   "metadata": {},
   "outputs": [
    {
     "data": {
      "text/plain": [
       "<langgraph.graph.state.StateGraph at 0x1130c7a40>"
      ]
     },
     "execution_count": 8,
     "metadata": {},
     "output_type": "execute_result"
    }
   ],
   "source": [
    "# Add nodes to the graph\n",
    "workflow.add_node(\"classify_input\", classify_input_node)\n",
    "workflow.add_node(\"handle_greeting\", handle_greeting_node)\n",
    "workflow.add_node(\"handle_summarise\", handle_summarise_node)\n",
    "workflow.add_conditional_edges(\"classify_input\", decide_next_node,\n",
    "                              {\n",
    "                                  \"handle_greeting\": \"handle_greeting\",\n",
    "                                  \"handle_summarise\": \"handle_summarise\"\n",
    "                              }\n",
    "                              )\n",
    "#set entry points and define end points\n",
    "workflow.set_entry_point(\"classify_input\")\n",
    "workflow.add_edge(\"handle_greeting\", END)\n",
    "workflow.add_edge(\"handle_summarise\", END)"
   ]
  },
  {
   "cell_type": "code",
   "execution_count": 9,
   "id": "b5cf233c-73ce-4a91-91a8-ce4b43a3ac7f",
   "metadata": {},
   "outputs": [],
   "source": [
    "#compile and run graph\n",
    "\n",
    "app = workflow.compile()"
   ]
  },
  {
   "cell_type": "code",
   "execution_count": 10,
   "id": "a2fcc5a2-803d-48de-9063-c0b02f4bb773",
   "metadata": {},
   "outputs": [
    {
     "data": {
      "image/png": "[encoded data removed]",
      "text/plain": [
       "<IPython.core.display.Image object>"
      ]
     },
     "execution_count": 10,
     "metadata": {},
     "output_type": "execute_result"
    }
   ],
   "source": [
    "from IPython.display import Image\n",
    "\n",
    "Image(app.get_graph().draw_mermaid_png())"
   ]
  },
  {
   "cell_type": "code",
   "execution_count": 11,
   "id": "b3100389-2890-40bb-a180-e416dbffb89c",
   "metadata": {},
   "outputs": [
    {
     "name": "stdout",
     "output_type": "stream",
     "text": [
      "<class 'str'>\n",
      "{'question': 'hello, how are you?', 'classification': 'greeting', 'response': 'Hello! How can I help you!'}\n"
     ]
    }
   ],
   "source": [
    "# run the graph\n",
    "inputs = {\"question\":\"hello, how are you?\"}\n",
    "result = app.invoke(inputs)\n",
    "print(result)\n"
   ]
  },
  {
   "cell_type": "code",
   "execution_count": 12,
   "id": "2f57e27a-85aa-4478-8ba9-18bc6f08e457",
   "metadata": {},
   "outputs": [
    {
     "name": "stdout",
     "output_type": "stream",
     "text": [
      "<class 'str'>\n"
     ]
    },
    {
     "name": "stderr",
     "output_type": "stream",
     "text": [
      "/Users/shreeya/Documents/Projects/Environments/GenAIVenvNew/lib/python3.12/site-packages/tqdm/auto.py:21: TqdmWarning: IProgress not found. Please update jupyter and ipywidgets. See https://ipywidgets.readthedocs.io/en/stable/user_install.html\n",
      "  from .autonotebook import tqdm as notebook_tqdm\n",
      "Device set to use mps:0\n"
     ]
    },
    {
     "name": "stdout",
     "output_type": "stream",
     "text": [
      "{'question': 'summarise the following context - The polar bear was given its common name by Thomas Pennant in A Synopsis of Quadrupeds (1771). It was known as the \"white bear\" in Europe between the 13th and 18th centuries, as well as \"ice bear\", \"sea bear\" and \"Greenland bear\". The Norse referred to it as isbjørn \\'ice bear\\' and hvitebjørn \\'white bear\\'. The bear is called nanook by the Inuit. The Netsilik cultures additionally have different names for bears based on certain factors, such as sex and age: these include adult males (anguraq), single adult females (tattaq), gestating females (arnaluk), newborns (hagliaqtug), large adolescents (namiaq) and dormant bears (apitiliit).[5] The scientific name Ursus maritimus is Latin for \\'sea bear\\'.[6][7]', 'classification': 'question', 'response': {'summarised_text': [{'summary_text': 'the polar bear was given its common name by Thomas Pennant in a Synopsis of Quadrupeds (1771) it was known as the \"white bear\" in Europe between the 13th and 18th centuries, as well as \"ice bear\", \"sea bear\" and \"greenland bear\" it is called nanook by the Inuit .'}]}}\n"
     ]
    }
   ],
   "source": [
    "# run the graph - 2\n",
    "text_filename = \"polar-bear-naming.txt\"\n",
    "with open(text_filename, \"r\", encoding=\"utf-8\") as f:\n",
    "    input_text = f.read()\n",
    "final_input_text = \"summarise the following context - \" + input_text\n",
    "\n",
    "inputs = {\"question\": final_input_text}\n",
    "result = app.invoke(inputs)\n",
    "print(result)"
   ]
  },
  {
   "cell_type": "code",
   "execution_count": 17,
   "id": "0b7c028e-63f4-4885-b6ff-b10487a59f75",
   "metadata": {},
   "outputs": [],
   "source": [
    "# !python -m pip install protobuf\n",
    "# !python -m pip install tiktoken"
   ]
  },
  {
   "cell_type": "code",
   "execution_count": 15,
   "id": "28c372a7-3c57-4d48-8330-7270aab2c332",
   "metadata": {},
   "outputs": [
    {
     "name": "stdout",
     "output_type": "stream",
     "text": [
      "{'summarised_text': [{'summary_text': 'the polar bear was given its common name by Thomas Pennant in a Synopsis of Quadrupeds (1771) it was known as the \"white bear\" in Europe between the 13th and 18th centuries, as well as \"ice bear\", \"sea bear\" and \"greenland bear\" it is called nanook by the Inuit .'}]}\n"
     ]
    }
   ],
   "source": [
    "print(result[\"response\"])"
   ]
  },
  {
   "cell_type": "code",
   "execution_count": null,
   "id": "e24a9b86-014b-48a8-90e1-5ce3e23f9d67",
   "metadata": {},
   "outputs": [],
   "source": []
  }
 ],
 "metadata": {
  "kernelspec": {
   "display_name": "Python 3 (ipykernel)",
   "language": "python",
   "name": "python3"
  },
  "language_info": {
   "codemirror_mode": {
    "name": "ipython",
    "version": 3
   },
   "file_extension": ".py",
   "mimetype": "text/x-python",
   "name": "python",
   "nbconvert_exporter": "python",
   "pygments_lexer": "ipython3",
   "version": "3.12.4"
  }
 },
 "nbformat": 4,
 "nbformat_minor": 5
}
