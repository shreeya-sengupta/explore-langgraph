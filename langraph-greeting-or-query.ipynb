{
 "cells": [
  {
   "cell_type": "code",
   "execution_count": 1,
   "id": "616c572b-97b3-4d8a-8c9c-143603cbb4a7",
   "metadata": {},
   "outputs": [],
   "source": [
    "from typing import Dict, TypedDict, Optional"
   ]
  },
  {
   "cell_type": "code",
   "execution_count": 2,
   "id": "3d342746-c38b-45a6-9d2f-679776b458cc",
   "metadata": {},
   "outputs": [],
   "source": [
    "class GraphState(TypedDict):\n",
    "    question: Optional[str] = None\n",
    "    classification: Optional[str] = None\n",
    "    response: Optional[str] = None"
   ]
  },
  {
   "cell_type": "code",
   "execution_count": 41,
   "id": "7a175ec8-5fa6-4546-9d44-ae41f868bc65",
   "metadata": {},
   "outputs": [],
   "source": [
    "# !python -m pip install langgraph"
   ]
  },
  {
   "cell_type": "code",
   "execution_count": 4,
   "id": "afe121c0-2e67-4cda-887c-800e3ebb2a96",
   "metadata": {},
   "outputs": [],
   "source": [
    "from langgraph.graph import StateGraph, END"
   ]
  },
  {
   "cell_type": "code",
   "execution_count": 5,
   "id": "1de78410-1528-4c7a-8218-ba7eecc433cb",
   "metadata": {},
   "outputs": [],
   "source": [
    "workflow = StateGraph(GraphState)"
   ]
  },
  {
   "cell_type": "code",
   "execution_count": 35,
   "id": "ecd56109-1067-4caa-b068-65cfe9b352cc",
   "metadata": {},
   "outputs": [],
   "source": [
    "def classify(question):\n",
    "    print(type(question))\n",
    "    greet_list = [\"hello\", \"hi\", \"good morning\", \"good evening\", \"hey\"]\n",
    "    for g in greet_list:\n",
    "        if g in question:\n",
    "            return \"greeting\"\n",
    "    return \"question\"\n",
    "\n",
    "def classify_input_node(state):\n",
    "    question = state.get('question', '').strip()\n",
    "    classification = classify(question)\n",
    "    return {\"classification\":classification}\n",
    "\n",
    "def handle_greeting_node(state):\n",
    "    return {\"response\": \"Hello! How can I help you!\"}\n",
    "\n",
    "def handle_search_node(state):\n",
    "    question = state.get('question', '').strip()\n",
    "    search_result = f\"search result for  {question}\"\n",
    "    return {\"response\": search_result}\n",
    "    \n",
    "def decide_next_node(state):\n",
    "    return \"handle_greeting\" if state.get('classification') == \"greeting\" else \"handle_search\"\n"
   ]
  },
  {
   "cell_type": "code",
   "execution_count": 7,
   "id": "fa7fd728-45e1-49d9-b45d-b220e219f78b",
   "metadata": {},
   "outputs": [
    {
     "data": {
      "text/plain": [
       "<langgraph.graph.state.StateGraph at 0x10ea0a1b0>"
      ]
     },
     "execution_count": 7,
     "metadata": {},
     "output_type": "execute_result"
    }
   ],
   "source": [
    "# Add nodes to the graph\n",
    "workflow.add_node(\"classify_input\", classify_input_node)\n",
    "workflow.add_node(\"handle_greeting\", handle_greeting_node)\n",
    "workflow.add_node(\"handle_search\", handle_search_node)\n",
    "workflow.add_conditional_edges(\"classify_input\", decide_next_node,\n",
    "                              {\n",
    "                                  \"handle_greeting\": \"handle_greeting\",\n",
    "                                  \"handle_search\": \"handle_search\"\n",
    "                              }\n",
    "                              )\n",
    "#set entry points and define end points\n",
    "workflow.set_entry_point(\"classify_input\")\n",
    "workflow.add_edge(\"handle_greeting\", END)\n",
    "workflow.add_edge(\"handle_search\", END)"
   ]
  },
  {
   "cell_type": "code",
   "execution_count": 8,
   "id": "b5cf233c-73ce-4a91-91a8-ce4b43a3ac7f",
   "metadata": {},
   "outputs": [],
   "source": [
    "#compile and run graph\n",
    "\n",
    "app = workflow.compile()"
   ]
  },
  {
   "cell_type": "code",
   "execution_count": 15,
   "id": "a2fcc5a2-803d-48de-9063-c0b02f4bb773",
   "metadata": {},
   "outputs": [
    {
     "data": {
      "image/png": "[encoded data removed]",
      "text/plain": [
       "<IPython.core.display.Image object>"
      ]
     },
     "execution_count": 15,
     "metadata": {},
     "output_type": "execute_result"
    }
   ],
   "source": [
    "from IPython.display import Image\n",
    "\n",
    "Image(app.get_graph().draw_mermaid_png())"
   ]
  },
  {
   "cell_type": "code",
   "execution_count": 39,
   "id": "b3100389-2890-40bb-a180-e416dbffb89c",
   "metadata": {},
   "outputs": [
    {
     "name": "stdout",
     "output_type": "stream",
     "text": [
      "<class 'str'>\n",
      "{'question': 'hi, how are you?', 'classification': 'greeting', 'response': 'Hello! How can I help you!'}\n"
     ]
    }
   ],
   "source": [
    "# run the graph\n",
    "inputs = {\"question\":\"hi, how are you?\"}\n",
    "result = app.invoke(inputs)\n",
    "print(result)\n"
   ]
  },
  {
   "cell_type": "code",
   "execution_count": 40,
   "id": "2f57e27a-85aa-4478-8ba9-18bc6f08e457",
   "metadata": {},
   "outputs": [
    {
     "name": "stdout",
     "output_type": "stream",
     "text": [
      "<class 'str'>\n",
      "{'question': 'tell me about langgraph', 'classification': 'question', 'response': 'search result for  tell me about langgraph'}\n"
     ]
    }
   ],
   "source": [
    "# run the graph - 2\n",
    "inputs = {\"question\":\"tell me about langgraph\"}\n",
    "result = app.invoke(inputs)\n",
    "print(result)"
   ]
  },
  {
   "cell_type": "code",
   "execution_count": null,
   "id": "0b7c028e-63f4-4885-b6ff-b10487a59f75",
   "metadata": {},
   "outputs": [],
   "source": []
  }
 ],
 "metadata": {
  "kernelspec": {
   "display_name": "Python 3 (ipykernel)",
   "language": "python",
   "name": "python3"
  },
  "language_info": {
   "codemirror_mode": {
    "name": "ipython",
    "version": 3
   },
   "file_extension": ".py",
   "mimetype": "text/x-python",
   "name": "python",
   "nbconvert_exporter": "python",
   "pygments_lexer": "ipython3",
   "version": "3.12.4"
  }
 },
 "nbformat": 4,
 "nbformat_minor": 5
}
